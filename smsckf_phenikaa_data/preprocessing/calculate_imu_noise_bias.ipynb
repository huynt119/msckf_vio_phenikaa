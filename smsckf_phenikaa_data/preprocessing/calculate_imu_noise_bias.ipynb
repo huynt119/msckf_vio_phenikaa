{
 "cells": [
  {
   "cell_type": "code",
   "execution_count": 8,
   "metadata": {},
   "outputs": [],
   "source": [
    "import csv\n",
    "import pandas as pd\n",
    "import numpy as np"
   ]
  },
  {
   "cell_type": "code",
   "execution_count": null,
   "metadata": {},
   "outputs": [],
   "source": [
    "import numpy as np\n",
    "\n",
    "def estimate_imu_noise_and_covariance(df, sample_rate=30.0):\n",
    "    # Đảm bảo đúng tên cột (xoá khoảng trắng nếu cần)\n",
    "    gyro_data = df[[' angRateXRaw', ' angRateYRaw', ' angRateZRaw']].to_numpy()\n",
    "    acc_data = df[[' accXRaw', ' accYRaw', ' accZRaw']].to_numpy()\n",
    "\n",
    "    # Step 1: Tính NoiseGyro và NoiseAcc (white noise - tức là độ lệch chuẩn per √Hz)\n",
    "    # Lấy đoạn dữ liệu IMU khi xe đứng yên\n",
    "    gyro_var = np.var(gyro_data, axis=0)\n",
    "    acc_var = np.var(acc_data, axis=0)\n",
    "\n",
    "    # Chuẩn hóa noise theo √Hz (vì variance = sigma^2 * sample_rate)\n",
    "    gyro_noise_std = np.sqrt(np.mean(gyro_var) * sample_rate)\n",
    "    acc_noise_std = np.sqrt(np.mean(acc_var) * sample_rate)\n",
    "\n",
    "    # Step 2: Ước lượng Bias Random Walk (GyroWalk & AccWalk)\n",
    "    # Chia thành nhiều cửa sổ để tính drift của bias (moving mean)\n",
    "    window_size = int(sample_rate)  # 1 giây\n",
    "    num_windows = len(gyro_data) // window_size\n",
    "\n",
    "    gyro_window_means = np.array([\n",
    "        np.mean(gyro_data[i * window_size:(i + 1) * window_size], axis=0)\n",
    "        for i in range(num_windows)\n",
    "    ])\n",
    "    acc_window_means = np.array([\n",
    "        np.mean(acc_data[i * window_size:(i + 1) * window_size], axis=0)\n",
    "        for i in range(num_windows)\n",
    "    ])\n",
    "\n",
    "    gyro_walk_std = np.sqrt(np.mean(np.var(gyro_window_means, axis=0)) * sample_rate)\n",
    "    acc_walk_std = np.sqrt(np.mean(np.var(acc_window_means, axis=0)) * sample_rate)\n",
    "\n",
    "    return {\n",
    "        'IMU.NoiseGyro': gyro_noise_std,\n",
    "        'IMU.NoiseAcc': acc_noise_std,\n",
    "        'IMU.GyroWalk': gyro_walk_std,\n",
    "        'IMU.AccWalk': acc_walk_std\n",
    "    }\n"
   ]
  },
  {
   "cell_type": "code",
   "execution_count": 10,
   "metadata": {},
   "outputs": [
    {
     "data": {
      "text/plain": [
       "3262"
      ]
     },
     "execution_count": 10,
     "metadata": {},
     "output_type": "execute_result"
    }
   ],
   "source": [
    "file_path = '/home/huynt119/Documents/Github/stereo_msckf/smsckf_phenikaa_data/data_raw/imu.csv'\n",
    "df = pd.read_csv(file_path)\n",
    "df = df[df['#IMUtimestamp'] <= 1743694157167]\n",
    "df.shape[0]"
   ]
  },
  {
   "cell_type": "code",
   "execution_count": 11,
   "metadata": {},
   "outputs": [
    {
     "data": {
      "text/plain": [
       "{'IMU.NoiseGyro': 0.02425241347023027,\n",
       " 'IMU.NoiseAcc': 1.2712282211102133,\n",
       " 'IMU.GyroWalk': 0.0025184238812816146,\n",
       " 'IMU.AccWalk': 0.1386052285689714}"
      ]
     },
     "execution_count": 11,
     "metadata": {},
     "output_type": "execute_result"
    }
   ],
   "source": [
    "estimate_imu_noise_and_covariance(df, sample_rate=30)"
   ]
  }
 ],
 "metadata": {
  "kernelspec": {
   "display_name": "base",
   "language": "python",
   "name": "python3"
  },
  "language_info": {
   "codemirror_mode": {
    "name": "ipython",
    "version": 3
   },
   "file_extension": ".py",
   "mimetype": "text/x-python",
   "name": "python",
   "nbconvert_exporter": "python",
   "pygments_lexer": "ipython3",
   "version": "3.12.7"
  }
 },
 "nbformat": 4,
 "nbformat_minor": 5
}
