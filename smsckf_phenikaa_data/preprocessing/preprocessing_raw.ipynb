{
 "cells": [
  {
   "cell_type": "code",
   "execution_count": null,
   "id": "d1409a81",
   "metadata": {},
   "outputs": [],
   "source": [
    "import os\n",
    "import csv\n",
    "\n",
    "# Thư mục chứa các folder mf, nf, wf\n",
    "base_dir = './data_raw'  # <-- đổi chỗ này\n",
    "\n",
    "folders = ['mf', 'nf', 'wf']\n",
    "offset = 25200000 # data_raw lệch\n",
    "\n",
    "for folder in folders:\n",
    "    csv_data = []\n",
    "    folder_path = os.path.join(base_dir, folder)\n",
    "    for filename in os.listdir(folder_path):\n",
    "        if filename.endswith('.jpg'):\n",
    "            try:\n",
    "                timestamp_str = filename.replace('.jpg', '')\n",
    "                timestamp = int(timestamp_str)\n",
    "                new_timestamp = timestamp + offset\n",
    "                new_filename = f\"{new_timestamp}.jpg\"\n",
    "\n",
    "                # Đổi tên file\n",
    "                src = os.path.join(folder_path, filename)\n",
    "                dst = os.path.join(folder_path, new_filename)\n",
    "                os.rename(src, dst)\n",
    "\n",
    "                # Lưu thông tin vào csv\n",
    "                csv_data.append([new_timestamp, new_filename])\n",
    "            except ValueError:\n",
    "                print(f\"Bỏ qua file không hợp lệ: {filename}\")\n",
    "\n",
    "# Ghi vào file CSV\n",
    "    csv_path = os.path.join(base_dir, f'{folder}.csv')\n",
    "    with open(csv_path, mode='w', newline='') as f:\n",
    "        writer = csv.writer(f)\n",
    "        writer.writerow(['timestamp', 'filename'])\n",
    "        writer.writerows(csv_data)"
   ]
  }
 ],
 "metadata": {
  "kernelspec": {
   "display_name": "base",
   "language": "python",
   "name": "python3"
  },
  "language_info": {
   "codemirror_mode": {
    "name": "ipython",
    "version": 3
   },
   "file_extension": ".py",
   "mimetype": "text/x-python",
   "name": "python",
   "nbconvert_exporter": "python",
   "pygments_lexer": "ipython3",
   "version": "3.12.7"
  }
 },
 "nbformat": 4,
 "nbformat_minor": 5
}
