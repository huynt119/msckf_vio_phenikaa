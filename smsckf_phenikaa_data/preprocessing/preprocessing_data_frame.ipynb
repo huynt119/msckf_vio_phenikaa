{
 "cells": [
  {
   "cell_type": "code",
   "execution_count": 58,
   "id": "ccd3ea31",
   "metadata": {},
   "outputs": [],
   "source": [
    "import os\n",
    "import shutil\n",
    "from pathlib import Path\n",
    "import csv\n",
    "import pandas as pd\n",
    "from pyproj import Transformer\n",
    "import numpy as np\n",
    "from scipy.spatial.transform import Rotation as R"
   ]
  },
  {
   "cell_type": "code",
   "execution_count": 59,
   "id": "c4bd4c18",
   "metadata": {},
   "outputs": [],
   "source": [
    "# #TODO: Chia folder data\n",
    "# # - cam0: timestamp, image\n",
    "# # - cam1: timestamp, image\n",
    "# # - Imu: timestamp, angRateXRaw, angRateYRaw, angRateZRaw, accXRaw, accYRaw, accZRaw\n",
    "# # - ground_truth: timestamp, x, y (convert to Cartesian3D), roll, pitch, yaw"
   ]
  },
  {
   "cell_type": "code",
   "execution_count": 60,
   "id": "73da9e96",
   "metadata": {},
   "outputs": [],
   "source": [
    "# # Đường dẫn gốc chứa tất cả các thư mục gốc\n",
    "# src_root = Path(\"/home/huynt119/Downloads/data_raw\")\n",
    "# dst_root = Path(\"/home/huynt119/Documents/Github/stereo_msckf/smsckf_phenikaa_data/data_raw\")\n",
    "# subfolders = ['mf', 'nf', 'wf']\n",
    "\n",
    "# # Tạo thư mục đích nếu chưa có\n",
    "# for sub in subfolders:\n",
    "#     (dst_root / sub).mkdir(parents=True, exist_ok=True)\n",
    "\n",
    "# count = 0\n",
    "\n",
    "# csv_data = {\n",
    "#     'mf': [],\n",
    "#     'nf': [],\n",
    "#     'wf': []\n",
    "# }\n",
    "\n",
    "# # Duyệt qua tất cả các thư mục con của huy\n",
    "# for root, dirs, files in os.walk(src_root):\n",
    "#     for sub in subfolders:\n",
    "#         if sub in root:\n",
    "#             for file in files:\n",
    "#                 count += 1\n",
    "#                 src_file = Path(root) / file\n",
    "#                 dst_dir = dst_root / sub\n",
    "#                 dst_file = dst_dir / file\n",
    "\n",
    "#                 shutil.copy2(src_file, dst_file)\n",
    "\n",
    "#                 timestamp = Path(file).stem\n",
    "#                 csv_data[sub].append((timestamp, file))\n",
    "\n",
    "# for sub in subfolders:\n",
    "#     csv_path = dst_root / f\"{sub}.csv\"\n",
    "#     with open(csv_path, \"w\", newline=\"\") as csvfile:\n",
    "#         writer = csv.writer(csvfile)\n",
    "#         writer.writerow([\"timestamp\", \"filename\"])\n",
    "#         writer.writerows(csv_data[sub])\n",
    "\n",
    "# print(f\"Copied {count} files to {dst_root}.\")\n"
   ]
  },
  {
   "cell_type": "code",
   "execution_count": 61,
   "id": "cbe36e06",
   "metadata": {},
   "outputs": [],
   "source": [
    "mf_root = \"smsckf_phenikaa_data/data_raw/mf.csv\"\n",
    "# nf_root = \"smsckf_phenikaa_data/data_raw/nf.csv\"\n",
    "# wf_root = \"smsckf_phenikaa_data/data_raw/wf.csv\"\n",
    "imu_root = \"smsckf_phenikaa_data/data_raw/imu.csv\"\n",
    "mf_wf = \"smsckf_phenikaa_data/data_raw/mf_wf.csv\"\n",
    "mf_nf = \"smsckf_phenikaa_data/data_raw/mf_nf.csv\"\n",
    "\n",
    "imu_df = pd.read_csv(imu_root)\n",
    "mf_wf_df = pd.read_csv(mf_wf)\n",
    "mf_nf_df = pd.read_csv(mf_nf)\n",
    "mf_df = pd.read_csv(mf_root)\n",
    "\n",
    "# mf_df = pd.read_csv(mf_root)\n",
    "# nf_df = pd.read_csv(nf_root)\n",
    "# wf_df = pd.read_csv(wf_root)\n",
    "# # mf_df = mf_df.sort_values('timestamp').reset_index(drop=True)\n",
    "# # nf_df = nf_df.sort_values('timestamp').reset_index(drop=True)\n",
    "# # wf_df = wf_df.sort_values('timestamp').reset_index(drop=True)\n",
    "# # mf_df.to_csv(mf_root, index=False)\n",
    "# # nf_df.to_csv(nf_root, index=False)\n",
    "# # wf_df.to_csv(wf_root, index=False)\n",
    "# # df = pd.read_csv(dataroot)\n",
    "# # df = df.drop_duplicates(subset=[\"timestamp\"], keep='first')\n",
    "# # df.to_csv(dataroot, index=False)"
   ]
  },
  {
   "cell_type": "code",
   "execution_count": 62,
   "id": "7e0815c5",
   "metadata": {},
   "outputs": [
    {
     "ename": "NameError",
     "evalue": "name 'nf_df' is not defined",
     "output_type": "error",
     "traceback": [
      "\u001b[0;31m---------------------------------------------------------------------------\u001b[0m",
      "\u001b[0;31mNameError\u001b[0m                                 Traceback (most recent call last)",
      "Cell \u001b[0;32mIn[62], line 1\u001b[0m\n\u001b[0;32m----> 1\u001b[0m nf_df\n",
      "\u001b[0;31mNameError\u001b[0m: name 'nf_df' is not defined"
     ]
    }
   ],
   "source": [
    "nf_df"
   ]
  },
  {
   "cell_type": "code",
   "execution_count": null,
   "id": "e0107baf",
   "metadata": {},
   "outputs": [
    {
     "data": {
      "text/html": [
       "<div>\n",
       "<style scoped>\n",
       "    .dataframe tbody tr th:only-of-type {\n",
       "        vertical-align: middle;\n",
       "    }\n",
       "\n",
       "    .dataframe tbody tr th {\n",
       "        vertical-align: top;\n",
       "    }\n",
       "\n",
       "    .dataframe thead th {\n",
       "        text-align: right;\n",
       "    }\n",
       "</style>\n",
       "<table border=\"1\" class=\"dataframe\">\n",
       "  <thead>\n",
       "    <tr style=\"text-align: right;\">\n",
       "      <th></th>\n",
       "      <th>timestamp</th>\n",
       "      <th>filename</th>\n",
       "    </tr>\n",
       "  </thead>\n",
       "  <tbody>\n",
       "    <tr>\n",
       "      <th>3251</th>\n",
       "      <td>1743694157167</td>\n",
       "      <td>1743694157167.jpg</td>\n",
       "    </tr>\n",
       "    <tr>\n",
       "      <th>3252</th>\n",
       "      <td>1743694157200</td>\n",
       "      <td>1743694157200.jpg</td>\n",
       "    </tr>\n",
       "    <tr>\n",
       "      <th>3253</th>\n",
       "      <td>1743694157233</td>\n",
       "      <td>1743694157233.jpg</td>\n",
       "    </tr>\n",
       "    <tr>\n",
       "      <th>3254</th>\n",
       "      <td>1743694157267</td>\n",
       "      <td>1743694157267.jpg</td>\n",
       "    </tr>\n",
       "    <tr>\n",
       "      <th>3255</th>\n",
       "      <td>1743694157300</td>\n",
       "      <td>1743694157300.jpg</td>\n",
       "    </tr>\n",
       "    <tr>\n",
       "      <th>...</th>\n",
       "      <td>...</td>\n",
       "      <td>...</td>\n",
       "    </tr>\n",
       "    <tr>\n",
       "      <th>5047</th>\n",
       "      <td>1743694217033</td>\n",
       "      <td>1743694217033.jpg</td>\n",
       "    </tr>\n",
       "    <tr>\n",
       "      <th>5048</th>\n",
       "      <td>1743694217067</td>\n",
       "      <td>1743694217067.jpg</td>\n",
       "    </tr>\n",
       "    <tr>\n",
       "      <th>5049</th>\n",
       "      <td>1743694217100</td>\n",
       "      <td>1743694217100.jpg</td>\n",
       "    </tr>\n",
       "    <tr>\n",
       "      <th>5050</th>\n",
       "      <td>1743694217133</td>\n",
       "      <td>1743694217133.jpg</td>\n",
       "    </tr>\n",
       "    <tr>\n",
       "      <th>5051</th>\n",
       "      <td>1743694217167</td>\n",
       "      <td>1743694217167.jpg</td>\n",
       "    </tr>\n",
       "  </tbody>\n",
       "</table>\n",
       "<p>1801 rows × 2 columns</p>\n",
       "</div>"
      ],
      "text/plain": [
       "          timestamp           filename\n",
       "3251  1743694157167  1743694157167.jpg\n",
       "3252  1743694157200  1743694157200.jpg\n",
       "3253  1743694157233  1743694157233.jpg\n",
       "3254  1743694157267  1743694157267.jpg\n",
       "3255  1743694157300  1743694157300.jpg\n",
       "...             ...                ...\n",
       "5047  1743694217033  1743694217033.jpg\n",
       "5048  1743694217067  1743694217067.jpg\n",
       "5049  1743694217100  1743694217100.jpg\n",
       "5050  1743694217133  1743694217133.jpg\n",
       "5051  1743694217167  1743694217167.jpg\n",
       "\n",
       "[1801 rows x 2 columns]"
      ]
     },
     "execution_count": 44,
     "metadata": {},
     "output_type": "execute_result"
    }
   ],
   "source": [
    "# df = mf_df[mf_df['timestamp'].isin(imu_df['#IMUtimestamp'])]\n",
    "df = nf_df\n",
    "# df = imu_df[imu_df['#IMUtimestamp'].isin(mf_df['timestamp'])]\n",
    "# imu_df = imu_df[(imu_df['#IMUtimestamp'] >= 1743694157167) & (imu_df['#IMUtimestamp'] <= 1743694217167)]\n",
    "df = df[(df['timestamp'] >= 1743694157167) & (df['timestamp'] <= 1743694217167)]\n",
    "df"
   ]
  },
  {
   "cell_type": "code",
   "execution_count": null,
   "id": "42672625",
   "metadata": {},
   "outputs": [],
   "source": [
    "# # # output_file = '/home/huynt119/Documents/Github/stereo_msckf/smsckf_phenikaa_data/data_raw/mf_nf_imu_timestamp.txt'\n",
    "# output_file = '/home/huynt119/Documents/Github/stereo_msckf/smsckf_phenikaa_data/data_raw/mf_nf.txt'\n",
    "# with open(output_file, 'w') as f:\n",
    "#     for ts in df['timestamp']:\n",
    "#         f.write(f\"{ts:.0f}\\n\")  # có thể đổi format nếu cần\n",
    "\n",
    "# print(f\"Đã ghi {len(df['timestamp'])} dòng vào {output_file}\")\n",
    "# # imu_df.to_csv(output_file, index=False)"
   ]
  },
  {
   "cell_type": "code",
   "execution_count": null,
   "id": "323d4861",
   "metadata": {},
   "outputs": [],
   "source": [
    "# df.to_csv(\"smsckf_phenikaa_data/data_raw/mf_nf.csv\", index=False)"
   ]
  },
  {
   "cell_type": "code",
   "execution_count": null,
   "id": "1459eb51",
   "metadata": {},
   "outputs": [],
   "source": [
    "# df = pd.read_csv(\"/home/huynt119/Downloads/huy/ins.csv\")\n",
    "# df"
   ]
  },
  {
   "cell_type": "code",
   "execution_count": null,
   "id": "7dac8012",
   "metadata": {},
   "outputs": [],
   "source": [
    "# df.columns"
   ]
  },
  {
   "cell_type": "code",
   "execution_count": null,
   "id": "0466a6ca",
   "metadata": {},
   "outputs": [],
   "source": [
    "# gt_data = df[['timestamp', ' x', ' y', ' roll', ' pitch', ' yaw']]\n",
    "# gt_data[' lat'] = df[' x']\n",
    "# gt_data[' lon'] = df[' y']\n",
    "# gt_data"
   ]
  },
  {
   "cell_type": "code",
   "execution_count": null,
   "id": "b409787a",
   "metadata": {},
   "outputs": [],
   "source": [
    "# transformer = Transformer.from_crs(\"EPSG:4326\", \"EPSG:4978\", always_xy=True)\n",
    "\n",
    "# # Áp dụng chuyển đổi\n",
    "# gt_data[' x'], gt_data[' y'] = transformer.transform(df[' y'].values, df[' x'].values)\n",
    "# gt_data"
   ]
  },
  {
   "cell_type": "code",
   "execution_count": null,
   "id": "ae4738c1",
   "metadata": {},
   "outputs": [],
   "source": [
    "# # Chuyển đổi các cột từ độ sang radian nếu cần\n",
    "# euler_angles = df[[' roll', ' pitch', ' yaw']].values\n",
    "\n",
    "# # Tạo rotation object từ Euler angles\n",
    "# r = R.from_euler('xyz', euler_angles)\n",
    "\n",
    "# # Lấy quaternion (x, y, z, w)\n",
    "# quaternions = r.as_quat()  # shape (n, 4)\n",
    "\n",
    "# # Thêm các cột quaternion vào DataFrame\n",
    "# gt_data[[' qx', ' qy', ' qz', ' qw']] = quaternions\n",
    "\n",
    "# gt_data\n"
   ]
  },
  {
   "cell_type": "code",
   "execution_count": null,
   "id": "05b6b5a1",
   "metadata": {},
   "outputs": [],
   "source": [
    "# gt_data.to_csv(\"ground_truth.csv\", index=False)"
   ]
  },
  {
   "cell_type": "code",
   "execution_count": null,
   "id": "54d69577",
   "metadata": {},
   "outputs": [],
   "source": [
    "# IMU_data = df[[' IMUtimestamp',' angRateXRaw', ' angRateYRaw', ' angRateZRaw', ' accXRaw', ' accYRaw',\n",
    "#        ' accZRaw']]\n",
    "# IMU_data"
   ]
  },
  {
   "cell_type": "code",
   "execution_count": null,
   "id": "306ef72a",
   "metadata": {},
   "outputs": [],
   "source": [
    "# IMU_data.to_csv('data/imu.csv', index=False)"
   ]
  },
  {
   "cell_type": "code",
   "execution_count": null,
   "id": "6a5a425a",
   "metadata": {},
   "outputs": [],
   "source": [
    "#TODO: Config"
   ]
  },
  {
   "cell_type": "code",
   "execution_count": null,
   "id": "8bfcac48",
   "metadata": {},
   "outputs": [],
   "source": [
    "#TODO: Align trajectory"
   ]
  },
  {
   "cell_type": "code",
   "execution_count": null,
   "id": "ea7ac956",
   "metadata": {},
   "outputs": [],
   "source": [
    "#TODO: Visualize trajectory"
   ]
  }
 ],
 "metadata": {
  "kernelspec": {
   "display_name": "base",
   "language": "python",
   "name": "python3"
  },
  "language_info": {
   "codemirror_mode": {
    "name": "ipython",
    "version": 3
   },
   "file_extension": ".py",
   "mimetype": "text/x-python",
   "name": "python",
   "nbconvert_exporter": "python",
   "pygments_lexer": "ipython3",
   "version": "3.12.7"
  }
 },
 "nbformat": 4,
 "nbformat_minor": 5
}
